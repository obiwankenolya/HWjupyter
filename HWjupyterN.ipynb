{
 "cells": [
  {
   "cell_type": "code",
   "execution_count": 1,
   "metadata": {},
   "outputs": [],
   "source": [
    "import pandas as pd"
   ]
  },
  {
   "cell_type": "code",
   "execution_count": 4,
   "metadata": {},
   "outputs": [],
   "source": [
    "file_path = 'C:/Users/marve/Desktop/names/'"
   ]
  },
  {
   "cell_type": "code",
   "execution_count": 5,
   "metadata": {},
   "outputs": [
    {
     "data": {
      "text/plain": [
       "['Michael', 'Michael', 'Christopher']"
      ]
     },
     "execution_count": 5,
     "metadata": {},
     "output_type": "execute_result"
    }
   ],
   "source": [
    "def count_top3(years):\n",
    "    top3_list = []\n",
    "    names_per_year = []\n",
    "    for year in years:\n",
    "        names = pd.read_csv(f'{file_path}/yob{year}.txt', names=['Name', 'Gender', 'Count'])\n",
    "        names_per_year.append(names)\n",
    "    all_names = pd.concat(names_per_year)\n",
    "    sorted_names = all_names.sort_values('Count', ascending=False)\n",
    "    sorted_names_3 = sorted_names.head(3)\n",
    "    for name in sorted_names_3['Name']:\n",
    "        top3_list.append(name)\n",
    "    return top3_list\n",
    "count_top3([1994, 1995])"
   ]
  },
  {
   "cell_type": "code",
   "execution_count": 6,
   "metadata": {},
   "outputs": [
    {
     "data": {
      "text/plain": [
       "{'F': [19091, 18836, 18375], 'M': [14030, 14174, 14215]}"
      ]
     },
     "execution_count": 6,
     "metadata": {},
     "output_type": "execute_result"
    }
   ],
   "source": [
    "def count_dynamics(years):\n",
    "    count_dynamics_dict = {}\n",
    "    F_list = []\n",
    "    M_list = []\n",
    "    for year in years:\n",
    "        names = pd.read_csv(f'{file_path}/yob{year}.txt', names=['Name', 'Gender', 'Count'])\n",
    "        female_names = names[names['Gender'] == 'F']\n",
    "        F_list.append(len(female_names))\n",
    "        male_names = names[names['Gender'] == 'M']\n",
    "        M_list.append(len(male_names))\n",
    "    count_dynamics_dict['F'] = F_list\n",
    "    count_dynamics_dict['M'] = M_list\n",
    "    return count_dynamics_dict\n",
    "count_dynamics([2015, 2016, 2017])"
   ]
  },
  {
   "cell_type": "code",
   "execution_count": null,
   "metadata": {},
   "outputs": [],
   "source": []
  }
 ],
 "metadata": {
  "kernelspec": {
   "display_name": "Python 3",
   "language": "python",
   "name": "python3"
  },
  "language_info": {
   "codemirror_mode": {
    "name": "ipython",
    "version": 3
   },
   "file_extension": ".py",
   "mimetype": "text/x-python",
   "name": "python",
   "nbconvert_exporter": "python",
   "pygments_lexer": "ipython3",
   "version": "3.7.2"
  }
 },
 "nbformat": 4,
 "nbformat_minor": 2
}
