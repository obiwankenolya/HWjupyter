{
 "cells": [
  {
   "cell_type": "code",
   "execution_count": 1,
   "metadata": {},
   "outputs": [],
   "source": [
    "import pandas as pd"
   ]
  },
  {
   "cell_type": "code",
   "execution_count": 2,
   "metadata": {},
   "outputs": [],
   "source": [
    "file_path = 'C:/Users/marve/Desktop/names/'"
   ]
  },
  {
   "cell_type": "code",
   "execution_count": 3,
   "metadata": {},
   "outputs": [
    {
     "data": {
      "text/plain": [
       "['James', 'John', 'Robert']"
      ]
     },
     "execution_count": 3,
     "metadata": {},
     "output_type": "execute_result"
    }
   ],
   "source": [
    "def count_top3(years):\n",
    "    top3_list = []\n",
    "    names_per_year = []\n",
    "    for year in years:\n",
    "        names = pd.read_csv(f'{file_path}/yob{year}.txt', names=['Name', 'Gender', 'Count'])\n",
    "        names_per_year.append(names)\n",
    "    all_names = pd.concat(names_per_year)\n",
    "    grouped_names = all_names.groupby(['Name']).sum()\n",
    "    sorted_names = grouped_names.sort_values('Count', ascending=False)\n",
    "    sorted_names_3 = sorted_names.head(3)\n",
    "    for i, row in sorted_names_3.iterrows():\n",
    "        top3_list.append(i)\n",
    "    return top3_list\n",
    "count_top3([1900, 1950, 2000])"
   ]
  },
  {
   "cell_type": "code",
   "execution_count": 4,
   "metadata": {},
   "outputs": [
    {
     "data": {
      "text/plain": [
       "{'F': [299798, 1713065, 1815295], 'M': [150480, 1790437, 1963202]}"
      ]
     },
     "execution_count": 4,
     "metadata": {},
     "output_type": "execute_result"
    }
   ],
   "source": [
    "def count_dynamics(years):\n",
    "    count_dynamics_dict = {}\n",
    "    F_list = []\n",
    "    M_list = []\n",
    "    for year in years:\n",
    "        names = pd.read_csv(f'{file_path}/yob{year}.txt', names=['Name', 'Gender', 'Count'])\n",
    "        female_names = names[names['Gender'] == 'F']\n",
    "        grouped_fn = female_names.groupby(['Gender']).sum()\n",
    "        for i, row in grouped_fn.iterrows():\n",
    "            F_list.append(row['Count'])\n",
    "        male_names = names[names['Gender'] == 'M']\n",
    "        grouped_mn = male_names.groupby(['Gender']).sum()\n",
    "        for i, row in grouped_mn.iterrows():\n",
    "            M_list.append(row['Count'])\n",
    "    count_dynamics_dict['F'] = F_list\n",
    "    count_dynamics_dict['M'] = M_list\n",
    "    return count_dynamics_dict\n",
    "count_dynamics([1900, 1950, 2000])"
   ]
  },
  {
   "cell_type": "code",
   "execution_count": null,
   "metadata": {},
   "outputs": [],
   "source": []
  }
 ],
 "metadata": {
  "kernelspec": {
   "display_name": "Python 3",
   "language": "python",
   "name": "python3"
  },
  "language_info": {
   "codemirror_mode": {
    "name": "ipython",
    "version": 3
   },
   "file_extension": ".py",
   "mimetype": "text/x-python",
   "name": "python",
   "nbconvert_exporter": "python",
   "pygments_lexer": "ipython3",
   "version": "3.7.2"
  }
 },
 "nbformat": 4,
 "nbformat_minor": 2
}
